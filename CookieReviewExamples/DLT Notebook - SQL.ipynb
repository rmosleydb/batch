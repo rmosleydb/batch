{
 "cells": [
  {
   "cell_type": "code",
   "execution_count": 0,
   "metadata": {
    "application/vnd.databricks.v1+cell": {
     "cellMetadata": {},
     "inputWidgets": {},
     "nuid": "1f2801aa-f83a-4400-aaa8-b4223cca71fd",
     "showTitle": false,
     "tableResultSettingsMap": {},
     "title": ""
    }
   },
   "outputs": [],
   "source": [
    "-- Create the first table to extract structured information from reviews\n",
    "CREATE LIVE TABLE reviews_structured AS\n",
    "SELECT\n",
    "  ai_query(\n",
    "    'databricks-meta-llama-3-3-70b-instruct',\n",
    "    CONCAT(\n",
    "      'Extract the following information from the review: ',\n",
    "      'Location (city name, street name, whatever may be mentioned in the review), Service Score (1-5), Product Score (1-5), Product Name (if mentioned) (comma separated if multiple), Atmosphere Score [cleanliness, accessibility, location, etc] (1-5), Urgency (high, low) [set to high if the review is particularly actionable and due to exceptionally good or poor service]. ',\n",
    "      'If the review doesnt contain an element, leave it blank or set it to zero. For instance, if the review does not mention service, then set service_score = 0. Urgency should always have a value. All scores should be 1-5 (if they are not null), with 1 being the worst and 5 being the best.',\n",
    "      'Review: ', review\n",
    "    ),\n",
    "    responseFormat => '{\n",
    "                        \"type\": \"json_schema\",\n",
    "                        \"json_schema\":\n",
    "                          {\n",
    "                           \"name\": \"review_extraction\",\n",
    "                           \"schema\":\n",
    "                             {\n",
    "                              \"type\": \"object\",\n",
    "                              \"properties\":\n",
    "                               {\n",
    "                                \"location\": { \"type\": \"string\" },\n",
    "                                \"service_score\": { \"type\": \"integer\" },\n",
    "                                \"product_score\": { \"type\": \"integer\" },\n",
    "                                \"product_name\": { \"type\": \"string\" },\n",
    "                                \"atmosphere_score\": { \"type\": \"integer\" },\n",
    "                                \"urgency\": { \"type\": \"string\" }\n",
    "                               }\n",
    "                             },\n",
    "                            \"strict\": true\n",
    "                          }\n",
    "                      }'\n",
    "  ) AS structured_review, *\n",
    "FROM retail_prod.media.reviews;\n"
   ]
  },
  {
   "cell_type": "code",
   "execution_count": 0,
   "metadata": {
    "application/vnd.databricks.v1+cell": {
     "cellMetadata": {},
     "inputWidgets": {},
     "nuid": "6095d923-33ba-45f8-b623-0579ee3ec8b5",
     "showTitle": false,
     "tableResultSettingsMap": {},
     "title": ""
    }
   },
   "outputs": [],
   "source": [
    "-- Create the second table to parse and transform the structured review data\n",
    "CREATE LIVE TABLE reviews_structured_gold AS\n",
    "WITH parsed_reviews AS (\n",
    "  SELECT \n",
    "    parse_json(structured_review):location::string AS location,\n",
    "    parse_json(structured_review):service_score::int AS service_score,\n",
    "    parse_json(structured_review):product_score::int AS product_score,\n",
    "    parse_json(structured_review):atmosphere_score::int AS atmosphere_score,\n",
    "    parse_json(structured_review):urgency::string AS urgency,\n",
    "    parse_json(structured_review):product_name::string AS product_name,\n",
    "    *\n",
    "  FROM LIVE.reviews_structured\n",
    ")\n",
    "SELECT \n",
    "  CASE \n",
    "    WHEN location = '' THEN NULL \n",
    "    ELSE location \n",
    "  END AS location,\n",
    "  NULLIF(service_score, 0) AS service_score,\n",
    "  NULLIF(product_score, 0) AS product_score,\n",
    "  NULLIF(atmosphere_score, 0) AS atmosphere_score,\n",
    "  urgency,\n",
    "  TRANSFORM(\n",
    "    FILTER(\n",
    "      SPLIT(\n",
    "        TRIM(\n",
    "          REGEXP_REPLACE(\n",
    "            product_name, \n",
    "            '(?i)\\\\bcookies?\\\\b', \n",
    "            ''\n",
    "          )\n",
    "        ), \n",
    "        ','\n",
    "      ), \n",
    "      x -> TRIM(x) != ''\n",
    "    ), \n",
    "    x -> TRIM(x)\n",
    "  ) AS product_name, \n",
    "  review, \n",
    "  string(franchiseID) franchiseID, \n",
    "  review_date\n",
    "FROM parsed_reviews;"
   ]
  }
 ],
 "metadata": {
  "application/vnd.databricks.v1+notebook": {
   "computePreferences": null,
   "dashboards": [],
   "environmentMetadata": {
    "base_environment": "",
    "environment_version": "2"
   },
   "language": "sql",
   "notebookMetadata": {
    "pythonIndentUnit": 2
   },
   "notebookName": "DLT Notebook - SQL",
   "widgets": {}
  },
  "language_info": {
   "name": "sql"
  }
 },
 "nbformat": 4,
 "nbformat_minor": 0
}
