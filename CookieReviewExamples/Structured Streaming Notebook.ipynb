{
 "cells": [
  {
   "cell_type": "code",
   "execution_count": 0,
   "metadata": {
    "application/vnd.databricks.v1+cell": {
     "cellMetadata": {
      "byteLimit": 2048000,
      "rowLimit": 10000
     },
     "inputWidgets": {},
     "nuid": "6a0d8c31-bcc0-4a3f-85d1-98cbf6e946fd",
     "showTitle": false,
     "tableResultSettingsMap": {},
     "title": ""
    }
   },
   "outputs": [],
   "source": [
    "llm = \"databricks-meta-llama-3-3-70b-instruct\"\n",
    "prompt = \"\"\"Extract the following information from the review: \n",
    "Location (city name, street name, whatever may be mentioned in the review), Service Score (1-5), Product Score (1-5), Product Name (if mentioned) (comma separated if multiple), Atmosphere Score [cleanliness, accessibility, location, etc] (1-5), Urgency (high, low) [set to high if the review is actionable and due to exceptionally good or poor service]. \n",
    "If the review doesnt contain an element, leave it blank or set it to zero. For instance, if the review does not mention service, then set service_score = 0. Urgency should always have a value. All scores should be 1-5 (if they are not 0), with 1 being the worst and 5 being the best.\n",
    "Review: \"\"\""
   ]
  },
  {
   "cell_type": "code",
   "execution_count": 0,
   "metadata": {
    "application/vnd.databricks.v1+cell": {
     "cellMetadata": {
      "byteLimit": 2048000,
      "rowLimit": 10000
     },
     "inputWidgets": {},
     "nuid": "e82d708e-ecd2-42b8-a375-d1f02be66650",
     "showTitle": false,
     "tableResultSettingsMap": {},
     "title": ""
    }
   },
   "outputs": [],
   "source": [
    "response_schema = \"\"\"\n",
    "{\n",
    "    \"type\": \"json_schema\",\n",
    "    \"json_schema\": {\n",
    "        \"name\": \"review_extraction\",\n",
    "        \"schema\": {\n",
    "            \"type\": \"object\",\n",
    "            \"properties\": {\n",
    "                \"location\": { \"type\": \"string\" },\n",
    "                \"service_score\": { \"type\": \"integer\" },\n",
    "                \"product_score\": { \"type\": \"integer\" },\n",
    "                \"product_name\": { \"type\": \"string\" },\n",
    "                \"atmosphere_score\": { \"type\": \"integer\" },\n",
    "                \"urgency\": { \"type\": \"string\" ,\n",
    "                        \"enum\": [\"high\", \"low\"] }\n",
    "            }\n",
    "        },\n",
    "        \"strict\": true\n",
    "    }\n",
    "}\n",
    "\"\"\""
   ]
  },
  {
   "cell_type": "code",
   "execution_count": 0,
   "metadata": {
    "application/vnd.databricks.v1+cell": {
     "cellMetadata": {
      "byteLimit": 2048000,
      "rowLimit": 10000
     },
     "inputWidgets": {},
     "nuid": "1f2801aa-f83a-4400-aaa8-b4223cca71fd",
     "showTitle": false,
     "tableResultSettingsMap": {},
     "title": ""
    }
   },
   "outputs": [],
   "source": [
    "from pyspark.sql.functions import col, expr, split, trim, regexp_replace, from_json\n",
    "from pyspark.sql.types import StructType, StructField, StringType, IntegerType\n",
    "\n",
    "# Define the schema for the structured review\n",
    "schema = StructType([\n",
    "    StructField(\"location\", StringType(), True),\n",
    "    StructField(\"service_score\", IntegerType(), True),\n",
    "    StructField(\"product_score\", IntegerType(), True),\n",
    "    StructField(\"product_name\", StringType(), True),\n",
    "    StructField(\"atmosphere_score\", IntegerType(), True),\n",
    "    StructField(\"urgency\", StringType(), True)\n",
    "])\n",
    "\n",
    "# Read the streaming data from the source table\n",
    "reviews_stream = (\n",
    "    spark.readStream\n",
    "    .table(\"retail_prod.media.reviews\")\n",
    ")\n",
    "\n",
    "# Apply the AI query to extract structured information\n",
    "structured_reviews = (\n",
    "    reviews_stream\n",
    "    .withColumn(\n",
    "        \"structured_review\",\n",
    "        expr(f\"ai_query('{llm}', CONCAT('{prompt}', review), responseFormat => '{response_schema}')\")\n",
    "    )\n",
    ")\n",
    "\n",
    "# Parse the structured review JSON\n",
    "parsed_reviews = (\n",
    "    structured_reviews\n",
    "    .withColumn(\"structured_review\", from_json(col(\"structured_review\"), schema))\n",
    "    .select(\n",
    "        col(\"structured_review.location\").alias(\"location\"),\n",
    "        col(\"structured_review.service_score\").alias(\"service_score\"),\n",
    "        col(\"structured_review.product_score\").alias(\"product_score\"),\n",
    "        col(\"structured_review.atmosphere_score\").alias(\"atmosphere_score\"),\n",
    "        col(\"structured_review.urgency\").alias(\"urgency\"),\n",
    "        col(\"structured_review.product_name\").alias(\"product_name\"),\n",
    "        col(\"review\"),\n",
    "        col(\"franchiseID\").cast(\"string\").alias(\"franchiseID\"),\n",
    "        col(\"review_date\")\n",
    "    )\n",
    ")\n",
    "\n",
    "# Transform the parsed reviews\n",
    "transformed_reviews = (\n",
    "    parsed_reviews\n",
    "    .select(\n",
    "        expr(\"CASE WHEN location = '' THEN NULL ELSE location END\").alias(\"location\"),\n",
    "        expr(\"NULLIF(service_score, 0)\").alias(\"service_score\"),\n",
    "        expr(\"NULLIF(product_score, 0)\").alias(\"product_score\"),\n",
    "        expr(\"NULLIF(atmosphere_score, 0)\").alias(\"atmosphere_score\"),\n",
    "        col(\"urgency\"),\n",
    "        expr(\n",
    "            \"TRANSFORM(\"\n",
    "            \"FILTER(\"\n",
    "            \"SPLIT(TRIM(REGEXP_REPLACE(product_name, '(?i)\\\\bcookies?\\\\b', '')), ','), \"\n",
    "            \"x -> TRIM(x) != ''\"\n",
    "            \"), \"\n",
    "            \"x -> TRIM(x)\"\n",
    "            \")\"\n",
    "        ).alias(\"product_name\"),\n",
    "        col(\"review\"),\n",
    "        col(\"franchiseID\"),\n",
    "        col(\"review_date\")\n",
    "    )\n",
    ")"
   ]
  },
  {
   "cell_type": "code",
   "execution_count": 0,
   "metadata": {
    "application/vnd.databricks.v1+cell": {
     "cellMetadata": {
      "byteLimit": 2048000,
      "rowLimit": 10000
     },
     "inputWidgets": {},
     "nuid": "aef3b07d-ffa3-47f4-ba1a-2098de5c75e5",
     "showTitle": false,
     "tableResultSettingsMap": {},
     "title": ""
    }
   },
   "outputs": [],
   "source": [
    "display(transformed_reviews)"
   ]
  },
  {
   "cell_type": "code",
   "execution_count": 0,
   "metadata": {
    "application/vnd.databricks.v1+cell": {
     "cellMetadata": {
      "byteLimit": 2048000,
      "rowLimit": 10000
     },
     "inputWidgets": {},
     "nuid": "0de0ad9a-bea5-4847-887d-fe7b84b4d8de",
     "showTitle": false,
     "tableResultSettingsMap": {},
     "title": ""
    },
    "jupyter": {
     "outputs_hidden": true
    }
   },
   "outputs": [],
   "source": [
    "\n",
    "# Write the transformed reviews to a Delta table\n",
    "query = (\n",
    "    transformed_reviews\n",
    "    .writeStream\n",
    "    .trigger(availableNow=True)\n",
    "    .format(\"delta\")\n",
    "    .option(\"checkpointLocation\", \"/path/to/checkpoint\")\n",
    "    .outputMode(\"append\")\n",
    "    .table(\"retail_prod.media.reviews_structured_gold\")\n",
    ")\n",
    "\n",
    "query.awaitTermination()"
   ]
  }
 ],
 "metadata": {
  "application/vnd.databricks.v1+notebook": {
   "computePreferences": null,
   "dashboards": [],
   "environmentMetadata": {
    "base_environment": "",
    "environment_version": "2"
   },
   "language": "python",
   "notebookMetadata": {
    "mostRecentlyExecutedCommandWithImplicitDF": {
     "commandId": 2237260441897302,
     "dataframes": [
      "_sqldf"
     ]
    },
    "pythonIndentUnit": 2
   },
   "notebookName": "Structured Streaming Notebook",
   "widgets": {}
  },
  "language_info": {
   "name": "python"
  }
 },
 "nbformat": 4,
 "nbformat_minor": 0
}
